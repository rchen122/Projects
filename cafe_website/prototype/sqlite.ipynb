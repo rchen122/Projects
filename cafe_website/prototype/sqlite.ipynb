{
 "cells": [
  {
   "cell_type": "code",
   "execution_count": 4,
   "metadata": {},
   "outputs": [],
   "source": [
    "import sqlite3\n",
    "con = sqlite3.connect(\"cafe.db\", check_same_thread=False)\n",
    "cur = con.cursor()\n",
    "drinks = [\n",
    "    [\"Espresso\", \"Coffee\", \"Small\", 2.50],\n",
    "    [\"Americano\", \"Coffee\", \"Medium\", 3.00],\n",
    "    [\"Cappuccino\", \"Coffee\", \"Large\", 3.50],\n",
    "    [\"Latte\", \"Coffee\", \"Medium\", 3.25],\n",
    "    [\"Mocha\", \"Coffee\", \"Large\", 4.00],\n",
    "    [\"Iced Coffee\", \"Cold Drink\", \"Medium\", 3.75],\n",
    "    [\"Smoothie\", \"Cold Drink\", \"Large\", 4.50],\n",
    "    [\"Green Tea\", \"Tea\", \"Small\", 2.00],\n",
    "    [\"Chai Latte\", \"Tea\", \"Medium\", 3.25],\n",
    "    [\"Herbal Tea\", \"Tea\", \"Small\", 2.25],\n",
    "    [\"Hot Chocolate\", \"Hot Drink\", \"Medium\", 3.00],\n",
    "    [\"Caramel Macchiato\", \"Coffee\", \"Large\", 4.25]\n",
    "]\n",
    "try:\n",
    "\tcur.executescript('''\n",
    "\tBEGIN;\n",
    "\tcreate table if not exists employee (\n",
    "\t\temp_id INTEGER PRIMARY KEY,\n",
    "\t\temp_name VARCHAR(20) NOT NULL,\n",
    "\t\temp_position VARCHAR(255) NOT NULL,\n",
    "\t\temp_phonenum VARCHAR(20)\n",
    "\t);\n",
    "\n",
    "\tcreate table if not exists customer (\n",
    "\t\tcust_id INTEGER PRIMARY KEY,\n",
    "\t\tcust_firstname varchar(10) NOT NULL,\n",
    "\t\tcust_lastname varchar(10) NOT NULL,\n",
    "\t\tcust_phonenum VARCHAR(20)\n",
    "\t);\n",
    "\n",
    "\tcreate table if not exists item (\n",
    "\t\titem_id INTEGER PRIMARY KEY,\n",
    "\t\titem_name varchar(50)  NOT NULL , \n",
    "\t\titem_cat varchar(50)  NOT NULL ,\n",
    "\t\titem_size varchar(20)  ,\n",
    "\t\titem_price decimal(7,2)  NOT NULL\n",
    "\t);\n",
    "\n",
    "\tcreate table if not exists orders (\n",
    "\t\torder_id INTEGER PRIMARY KEY,\n",
    "\t\temp_id int,\n",
    "\t\torder_ts timestamp DEFAULT CURRENT_TIMESTAMP,\n",
    "\t\tcust_id int,\n",
    "\t\tquantity int not null,\n",
    "\t\ttotal_price DECIMAL(10,2) not null,\n",
    "\t\tforeign key (emp_id) references employee(emp_id),\n",
    "\t\tforeign key (cust_id) references customer(cust_id)\n",
    "\t);\n",
    "\n",
    "\tcreate table if not exists orderItems (\n",
    "\t\torder_item_id INTEGER PRIMARY KEY, \n",
    "\t\torder_id INT not null,\n",
    "\t\titem_id INT not null,\n",
    "\t\tquantity INT not null,\n",
    "\t\tforeign key (order_id) references orders(order_id),\n",
    "\t\tforeign key (item_id) references items(item_id)\n",
    "\t); ''')\n",
    "\tcon.commit()\n",
    "except sqlite3.OperationalError as e:\n",
    "\tprint(\"Operational Error: \", e)\n",
    "\n"
   ]
  },
  {
   "cell_type": "code",
   "execution_count": null,
   "metadata": {},
   "outputs": [],
   "source": [
    "# cur.execute(\"DELETE from employee\")\n",
    "# cur.execute(\"INSERT INTO employee VALUES (1, 'Me', 'Manager', '1234567890')\")\n",
    "\n",
    "# res = cur.execute(\"select * from employee\")\n",
    "# res.fetchall()\n",
    "# cur.close()"
   ]
  },
  {
   "cell_type": "code",
   "execution_count": 2,
   "metadata": {},
   "outputs": [],
   "source": [
    "def add_item(con, item_name, item_category, item_size, item_price):\n",
    "\tcur = con.cursor()\n",
    "\tcur.execute(\"INSERT into item (item_name, item_cat, item_size, item_price) values (?, ?, ?, ?)\", (item_name, item_category, item_size, item_price))\n",
    "\tcon.commit()\n",
    "\tcur.close()\n",
    "\n",
    "\n",
    "\n",
    "for drink in drinks: \n",
    "\tadd_item(con, drink[0], drink[1], drink[2], drink[3])\n",
    "    "
   ]
  },
  {
   "cell_type": "code",
   "execution_count": 7,
   "metadata": {},
   "outputs": [
    {
     "name": "stdout",
     "output_type": "stream",
     "text": [
      "[(1, 1, '2025-01-09 21:12:48', 1, 2, 7.75)]\n",
      "[(1, 1, 7, 1), (2, 1, 4, 1)]\n"
     ]
    }
   ],
   "source": [
    "cur = con.cursor()\n",
    "res = cur.execute(\"SELECT * from orders\")\n",
    "print(res.fetchall())\n",
    "res = cur.execute(\"SELECT * from orderItems\")\n",
    "print(res.fetchall())"
   ]
  },
  {
   "cell_type": "code",
   "execution_count": 3,
   "metadata": {},
   "outputs": [],
   "source": [
    "cur.close()\n",
    "con.close()"
   ]
  }
 ],
 "metadata": {
  "kernelspec": {
   "display_name": "Python 3",
   "language": "python",
   "name": "python3"
  },
  "language_info": {
   "codemirror_mode": {
    "name": "ipython",
    "version": 3
   },
   "file_extension": ".py",
   "mimetype": "text/x-python",
   "name": "python",
   "nbconvert_exporter": "python",
   "pygments_lexer": "ipython3",
   "version": "3.12.2"
  }
 },
 "nbformat": 4,
 "nbformat_minor": 2
}
